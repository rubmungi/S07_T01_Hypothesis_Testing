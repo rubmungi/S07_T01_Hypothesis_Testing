{
 "cells": [
  {
   "cell_type": "markdown",
   "id": "64ef57c1",
   "metadata": {},
   "source": [
    "# S07 T01: Tasca del test d'hipòtesis"
   ]
  },
  {
   "cell_type": "code",
   "execution_count": 97,
   "id": "707808bf",
   "metadata": {},
   "outputs": [],
   "source": [
    "import random\n",
    "import numpy as np\n",
    "import pandas as pd\n",
    "import matplotlib.pyplot as plt\n",
    "import seaborn as sns\n",
    "import statistics\n",
    "import scipy.stats\n",
    "from scipy.stats import norm\n",
    "from scipy import stats\n",
    "from scipy.stats import t"
   ]
  },
  {
   "cell_type": "markdown",
   "id": "2403a540",
   "metadata": {},
   "source": [
    "## Exercici 1. Agafa un conjunt de dades de tema esportiu que t'agradi i selecciona un atribut del conjunt de dades. Calcula el p-valor i digues si rebutja la hipòtesi nul·la agafant un alfa de 5%."
   ]
  },
  {
   "cell_type": "markdown",
   "id": "98d8d39a",
   "metadata": {},
   "source": [
    "De l'Sprint06, carreguem les dades netes, sense nuls, amb l'històric de jugadors de la selecció espanyola de futbol absolut masculina que han debutat (obtingudes a partir de la web bdfutbol.com). Recordem els noms de les columnes:\n",
    "- Sobrenom; Nom; Data Naixement; Lloc de Naixament; Província; País; Partits Jugats; Partits Titular; Partits Complets; Partits Suplent; Partits Substituït; Partits Convocats (sense jugar); Partits Guanyats; Partits Empetats; Partits Perduts; Minuts; Goles; Gols Penalt; Goles pròpia porta; Gols Encaixats; Targetes grogues; Targetes vermelles; Edat inicial; Edat final; Alçada; Pes"
   ]
  },
  {
   "cell_type": "code",
   "execution_count": 98,
   "id": "dff1b102",
   "metadata": {},
   "outputs": [],
   "source": [
    "jugadors = pd.read_csv('C:\\\\Users\\\\Silvia\\\\Desktop\\\\rubenIT\\\\DataSources\\\\jugadores00.csv')#importem i li assignem un nom de dataframe"
   ]
  },
  {
   "cell_type": "code",
   "execution_count": 99,
   "id": "effdf804",
   "metadata": {},
   "outputs": [
    {
     "name": "stdout",
     "output_type": "stream",
     "text": [
      "               PJ          PT          PC          PS          PX          PG  \\\n",
      "count  654.000000  654.000000  654.000000  654.000000  654.000000  654.000000   \n",
      "mean    14.155963   11.085627    8.006116    3.070336    3.056575    8.391437   \n",
      "std     22.460518   19.330256   14.271486    5.229901    7.115855   15.330149   \n",
      "min      1.000000    0.000000    0.000000    0.000000    0.000000    0.000000   \n",
      "25%      2.000000    1.000000    1.000000    0.000000    0.000000    1.000000   \n",
      "50%      5.000000    4.000000    3.000000    1.000000    1.000000    3.000000   \n",
      "75%     16.000000   12.000000    9.000000    3.000000    3.000000    9.000000   \n",
      "max    180.000000  161.000000  125.000000   42.000000   59.000000  131.000000   \n",
      "\n",
      "               PE          PP           Min           G          GP  \\\n",
      "count  654.000000  654.000000    654.000000  654.000000  654.000000   \n",
      "mean     3.333333    2.431193   1005.507645    1.960245    0.142202   \n",
      "std      4.831199    3.607972   1669.924268    5.165109    0.873092   \n",
      "min      0.000000    0.000000      1.000000    0.000000    0.000000   \n",
      "25%      0.000000    0.000000     90.000000    0.000000    0.000000   \n",
      "50%      1.000000    1.000000    360.000000    0.000000    0.000000   \n",
      "75%      4.000000    3.000000   1129.250000    1.000000    0.000000   \n",
      "max     33.000000   23.000000  13709.000000   59.000000   11.000000   \n",
      "\n",
      "              GPP          GE          TA          TR          EI          EF  \\\n",
      "count  654.000000  654.000000  654.000000  654.000000  654.000000  654.000000   \n",
      "mean     0.019878    0.905199    0.917431    0.032110   23.949541   26.831804   \n",
      "std      0.139687    6.868723    2.419149    0.184904    2.782392    3.488660   \n",
      "min      0.000000    0.000000    0.000000    0.000000   17.000000   17.000000   \n",
      "25%      0.000000    0.000000    0.000000    0.000000   22.000000   25.000000   \n",
      "50%      0.000000    0.000000    0.000000    0.000000   24.000000   27.000000   \n",
      "75%      0.000000    0.000000    1.000000    0.000000   26.000000   29.000000   \n",
      "max      1.000000  100.000000   24.000000    2.000000   34.000000   36.000000   \n",
      "\n",
      "           Altura        Peso  \n",
      "count  654.000000  654.000000  \n",
      "mean   177.594801   73.915902  \n",
      "std      6.021862    5.713472  \n",
      "min    160.000000   60.000000  \n",
      "25%    173.000000   70.000000  \n",
      "50%    178.000000   74.000000  \n",
      "75%    181.750000   77.000000  \n",
      "max    197.000000   95.000000  \n",
      "            Apodo                       Nombre       Fecha             Ciudad  \\\n",
      "0    Marcos Vales         Marcos Vales Illanes  05/04/1975           A Coruña   \n",
      "1           Acuña              Juan Acuña Naya  13/02/1923           A Coruña   \n",
      "2          Martín  José María Martín Rodríguez  25/04/1924           A Coruña   \n",
      "3         Casilla     Francisco Casilla Cortés  02/10/1986            Alcover   \n",
      "4    Juan Sánchez    Juan Ginés Sánchez Romero  15/05/1972             Aldaia   \n",
      "5       Cucurella        Marc Cucurella Saseta  22/07/1998             Alella   \n",
      "6          Piquer          Vicente Piquer Mora  24/02/1935  Algar de Palancia   \n",
      "7             Ito        Antonio Álvarez Pérez  21/01/1975       Almendralejo   \n",
      "8       Planas II           Javier Planas Abad  03/07/1949          Almudévar   \n",
      "9  Josep Martínez         Josep Martínez Riera  27/05/1998             Alzira   \n",
      "\n",
      "   Provincia    País  PJ  PT  PC  PS  ...  G  GP  GPP  GE  TA  TR  EI  EF  \\\n",
      "0   A Coruña  España   1   0   0   1  ...  0   0    0   0   0   0  23  23   \n",
      "1   A Coruña  España   1   0   0   1  ...  0   0    0   1   0   0  18  18   \n",
      "2   A Coruña  España   1   1   1   0  ...  0   0    0   0   0   0  28  28   \n",
      "3  Tarragona  España   1   0   0   1  ...  0   0    0   1   0   0  28  28   \n",
      "4   Valencia  España   1   0   0   1  ...  0   0    0   0   0   0  26  26   \n",
      "5  Barcelona  España   1   1   0   0  ...  0   0    0   0   0   0  22  22   \n",
      "6   Valencia  España   1   1   1   0  ...  0   0    0   0   0   0  26  26   \n",
      "7    Badajoz  España   1   0   0   1  ...  0   0    0   0   0   0  23  23   \n",
      "8     Huesca  España   1   1   1   0  ...  0   0    0   0   1   0  25  25   \n",
      "9   Valencia  España   1   0   0   1  ...  0   0    0   0   0   0  23  23   \n",
      "\n",
      "   Altura  Peso  \n",
      "0   181.0  77.0  \n",
      "1   179.0  88.0  \n",
      "2   176.0  74.0  \n",
      "3   192.0  83.0  \n",
      "4   173.0  72.0  \n",
      "5   172.0  68.0  \n",
      "6   173.0  71.0  \n",
      "7   175.0  70.0  \n",
      "8   174.0  74.0  \n",
      "9   191.0  78.0  \n",
      "\n",
      "[10 rows x 25 columns]\n",
      "               Apodo                     Nombre       Fecha           Ciudad  \\\n",
      "644         Fàbregas    Francesc Fàbregas Soler  04/05/1987    Arenys de Mar   \n",
      "645  Fernando Torres  Fernando José Torres Sanz  20/03/1984      Fuenlabrada   \n",
      "646      Xabi Alonso        Xabier Alonso Olano  25/11/1981           Tolosa   \n",
      "647            Silva  David Josué Jiménez Silva  08/01/1986      Arguineguín   \n",
      "648      Zubizarreta  Andoni Zubizarreta Urreta  23/10/1961  Vitoria-Gasteiz   \n",
      "649          Iniesta       Andrés Iniesta Luján  11/05/1984    Fuentealbilla   \n",
      "650         Busquets     Sergio Busquets Burgos  16/07/1988         Sabadell   \n",
      "651             Xavi     Xavier Hernández Creus  25/01/1980         Terrassa   \n",
      "652         Casillas    Iker Casillas Fernández  20/05/1981         Móstoles   \n",
      "653     Sergio Ramos        Sergio Ramos García  30/03/1986            Camas   \n",
      "\n",
      "       Provincia    País   PJ   PT   PC  PS  ...   G  GP  GPP   GE  TA  TR  \\\n",
      "644    Barcelona  España  110   68   22  42  ...  15   0    0    0  15   0   \n",
      "645       Madrid  España  110   75   21  35  ...  38   5    0    0   4   0   \n",
      "646     Gipuzkoa  España  114   86   48  28  ...  16   6    0    0  10   1   \n",
      "647   Las Palmas  España  125   96   37  29  ...  35   2    0    0  10   0   \n",
      "648  Araba/Álava  España  126  125  106   1  ...   0   0    1  100   2   1   \n",
      "649     Albacete  España  131  105   47  26  ...  13   1    0    0   4   0   \n",
      "650    Barcelona  España  133  119   89  14  ...   2   0    0    0  23   0   \n",
      "651    Barcelona  España  133  108   64  25  ...  13   0    0    0   9   0   \n",
      "652       Madrid  España  167  154  125  13  ...   0   0    0   93   2   0   \n",
      "653      Sevilla  España  180  161  118  19  ...  23   8    0    0  24   0   \n",
      "\n",
      "     EI  EF  Altura  Peso  \n",
      "644  18  29   180.0  77.0  \n",
      "645  19  30   186.0  78.0  \n",
      "646  21  32   183.0  75.0  \n",
      "647  20  32   170.0  67.0  \n",
      "648  23  36   187.0  86.0  \n",
      "649  22  34   171.0  68.0  \n",
      "650  20  32   189.0  76.0  \n",
      "651  20  34   170.0  68.0  \n",
      "652  19  35   182.0  80.0  \n",
      "653  18  34   184.0  83.0  \n",
      "\n",
      "[10 rows x 25 columns]\n"
     ]
    }
   ],
   "source": [
    "#Imprimim les dades filtrades per comprovar la importació\n",
    "print(jugadors.describe())\n",
    "print(jugadors.head(10))\n",
    "print(jugadors.tail(10))"
   ]
  },
  {
   "cell_type": "markdown",
   "id": "f3c310c3",
   "metadata": {},
   "source": [
    "Consultem les dades estadístiques de l'atribut \"Altura\" per fer-nos una idea de com formular la hipòtesi."
   ]
  },
  {
   "cell_type": "code",
   "execution_count": 100,
   "id": "d9792df3",
   "metadata": {},
   "outputs": [
    {
     "data": {
      "text/plain": [
       "count    654.000000\n",
       "mean     177.594801\n",
       "std        6.021862\n",
       "min      160.000000\n",
       "25%      173.000000\n",
       "50%      178.000000\n",
       "75%      181.750000\n",
       "max      197.000000\n",
       "Name: Altura, dtype: float64"
      ]
     },
     "execution_count": 100,
     "metadata": {},
     "output_type": "execute_result"
    }
   ],
   "source": [
    "jugadors.Altura.describe()"
   ]
  },
  {
   "cell_type": "markdown",
   "id": "1e2fe7f1",
   "metadata": {},
   "source": [
    "### Farem servir el Mètode Z-score, amb alpha level del 5%, i right-tailed score."
   ]
  },
  {
   "cell_type": "markdown",
   "id": "8005cb9c",
   "metadata": {},
   "source": [
    "### Step 1 & 2. Establim Null H. i Alternate H.\n",
    "Podem formular la hipòtesi següent:\n",
    "Si escollim un jugador i té origen extranger (Provincia=\"Extranjero\"), llavors és més alt o igual que la mitjana general, en concret 180 cm.\n",
    "\n",
    "Null Hypothesis H0: mu<=180\n",
    "Alternative Hypothesis H1: mu>180"
   ]
  },
  {
   "cell_type": "markdown",
   "id": "9136cb92",
   "metadata": {},
   "source": [
    "La probabilitat d'escollir un jugador és 1 entre 654 jugadors seleccionats."
   ]
  },
  {
   "cell_type": "code",
   "execution_count": 101,
   "id": "60a4e00d",
   "metadata": {},
   "outputs": [
    {
     "name": "stdout",
     "output_type": "stream",
     "text": [
      "0.0015290519877675841\n",
      "0.1529%\n"
     ]
    }
   ],
   "source": [
    "P=1/jugadors.Altura.count()\n",
    "print(P)\n",
    "print(\"{:.4%}\".format(P))"
   ]
  },
  {
   "cell_type": "markdown",
   "id": "40758b18",
   "metadata": {},
   "source": [
    "### Step 3. Dibuixem les dades\n",
    "Dibuixem la campana de Gauss o distribució de l'atribut \"Altura\" amb seaborn per tenir una visualització de les dades."
   ]
  },
  {
   "cell_type": "code",
   "execution_count": 102,
   "id": "8c88542a",
   "metadata": {},
   "outputs": [
    {
     "data": {
      "text/plain": [
       "<matplotlib.legend.Legend at 0x1da1f37e370>"
      ]
     },
     "execution_count": 102,
     "metadata": {},
     "output_type": "execute_result"
    },
    {
     "data": {
      "image/png": "[encoded data removed]",
      "text/plain": [
       "<Figure size 1152x576 with 1 Axes>"
      ]
     },
     "metadata": {
      "needs_background": "light"
     },
     "output_type": "display_data"
    }
   ],
   "source": [
    "sns.displot(data=jugadors,x=\"Altura\", color=\"dodgerblue\", label=\"Altura\",kind=\"kde\",height=8,aspect=2)\n",
    "plt.title(\"Distribució Altura jugadors\")\n",
    "plt.legend()"
   ]
  },
  {
   "cell_type": "markdown",
   "id": "59ec9ec8",
   "metadata": {},
   "source": [
    "### Step 4. Establim nivell alpha"
   ]
  },
  {
   "cell_type": "code",
   "execution_count": 103,
   "id": "ac0ed3c1",
   "metadata": {},
   "outputs": [],
   "source": [
    "#95% de confiança\n",
    "alpha=0.05"
   ]
  },
  {
   "cell_type": "markdown",
   "id": "fd2be2f5",
   "metadata": {},
   "source": [
    "### Step 5. Trobem àrea de regió rebuig (rejection region) de la taula z per un àrea 0.05, o la calculem amb Python. L'àrea corresponent és el p-value.###\n",
    "Establim right-tailed."
   ]
  },
  {
   "cell_type": "code",
   "execution_count": 104,
   "id": "ad437170",
   "metadata": {},
   "outputs": [
    {
     "name": "stdout",
     "output_type": "stream",
     "text": [
      "Àrea de 5% (taula Z cal fer 0.5-0.05=0.495) = Z-score de 1.6448536269514722\n",
      "Confident: 0.95\n"
     ]
    }
   ],
   "source": [
    "import scipy.stats as st\n",
    "Zscore=st.norm.ppf(0.95)\n",
    "print(\"Àrea de 5% (taula Z cal fer 0.5-0.05=0.495) = Z-score de \" + str(Zscore))\n",
    "\n",
    "#Comprovem la correcta aplicació de rejection\n",
    "confident=st.norm.cdf(Zscore)\n",
    "print(\"Confident: \" + str(confident))"
   ]
  },
  {
   "cell_type": "markdown",
   "id": "ab654d5a",
   "metadata": {},
   "source": [
    "Exemple de la campana Gauss amb el Z-score:\n",
    "![https://i.stack.imgur.com/fGYNp.png](https://i.stack.imgur.com/fGYNp.png)"
   ]
  },
  {
   "cell_type": "markdown",
   "id": "d05b9874",
   "metadata": {},
   "source": [
    "En el nostre cas i de la forma que hem aplicat el mètode, compararem el Z-score amb Z-statistic. Degut a què hem marcat el límit per trobar Z-score amb alpha=0.05, treuríem el 5% de la meitat de la corba perquè analitzem només la cua dreta. Per taula Z, Z-score per 0.50-0.05=0.45 és 1.645, que coincideix amb el valor de càlcul de Python.\n",
    "\n",
    "P-value en aquest cas és l'àrea que manca per completar el 100% ó 1 de la distribució normal (1-confiança=1-0.95=0.05).\n",
    "\n",
    "Aquesta forma de treballar segueix el procediment marcat a la web:\n",
    "\n",
    "https://www.statisticshowto.com/probability-and-statistics/hypothesis-testing/"
   ]
  },
  {
   "cell_type": "code",
   "execution_count": 105,
   "id": "4e46cba7",
   "metadata": {},
   "outputs": [
    {
     "name": "stdout",
     "output_type": "stream",
     "text": [
      "p-value =  0.05\n"
     ]
    }
   ],
   "source": [
    "p_value = (1 - confident)\n",
    "print('p-value = ', round(p_value, 4))"
   ]
  },
  {
   "cell_type": "markdown",
   "id": "75bd66d6",
   "metadata": {},
   "source": [
    "### Step 6. Find the test statistics Z=(promig-mu)/(desv.estàndard/arrel_quadrada(n))"
   ]
  },
  {
   "cell_type": "code",
   "execution_count": 106,
   "id": "1eceb625",
   "metadata": {},
   "outputs": [],
   "source": [
    "a=jugadors[jugadors.Provincia==\"Extranjero\"]"
   ]
  },
  {
   "cell_type": "code",
   "execution_count": 107,
   "id": "12bc452a",
   "metadata": {},
   "outputs": [
    {
     "name": "stdout",
     "output_type": "stream",
     "text": [
      "Test statistic= 2.259410633817534\n"
     ]
    }
   ],
   "source": [
    "AltExtranger=180\n",
    "Z=(AltExtranger-jugadors.Altura.mean())/(jugadors.Altura.std()/(np.sqrt(a.Altura.count())))\n",
    "print(\"Test statistic= \" + str(Z))"
   ]
  },
  {
   "cell_type": "markdown",
   "id": "2f79d572",
   "metadata": {},
   "source": [
    "Com que \"Test Statistic Z\", del pas 6, és 2.259 > (Zscore = 1.644), del pas 5, podem rebutjar la hipòtesi nul·la.\n",
    "\n",
    "**Donada la hipòtesis que els jugadors d'origen extranger que han passat per la selecció fan més de 180 cm, i en conseqüència més alts que la mitjana de tots els jugadors, es comprova que aquesta hipòtesis nul·la es pot rebutjar, tot i que l'alçada mitjana deuen ser molt semblants.**\n",
    "\n",
    "\n",
    "***WE CAN REJECT NULL HYPOTHESIS***\n",
    "\n",
    "\n",
    "Si apliquem un filtre a les dades, i trobem la mitjana de l'Altura dels jugadors extrangers, veurem que aquesta és de 177.406 cm, no gaire lluny dels 177.59 de la mitjana de tots els jugadors.\n",
    "\n",
    "També és important veure que la mostra és més gran que 30 individus. Al contrari, no s'hagués pogut fer el mètode Z-score."
   ]
  },
  {
   "cell_type": "code",
   "execution_count": 108,
   "id": "0d049f28",
   "metadata": {},
   "outputs": [
    {
     "name": "stdout",
     "output_type": "stream",
     "text": [
      "Mitjana jugadors d'origen Extranger: 177.40625\n",
      "count     32.000000\n",
      "mean     177.406250\n",
      "std        5.452785\n",
      "min      168.000000\n",
      "25%      174.000000\n",
      "50%      176.500000\n",
      "75%      180.000000\n",
      "max      191.000000\n",
      "Name: Altura, dtype: float64\n"
     ]
    }
   ],
   "source": [
    "b=a.Altura.mean()\n",
    "print(\"Mitjana jugadors d'origen Extranger: \" + str(b))\n",
    "print(a.Altura.describe())"
   ]
  },
  {
   "cell_type": "markdown",
   "id": "712d84f0",
   "metadata": {},
   "source": [
    "### Podem aplicar el Mètode P-value approach. En aquest cas, els graus de llibertat són n-1.\n"
   ]
  },
  {
   "cell_type": "markdown",
   "id": "ab55489c",
   "metadata": {},
   "source": [
    "### Step 1. Formulació de la hipòtesi\n",
    "Recordem la hipòtesi:\n",
    "- Null Hypothesis H0: mu<=180\n",
    "- Alternative Hypothesis H1: mu>180"
   ]
  },
  {
   "cell_type": "markdown",
   "id": "9c29d93c",
   "metadata": {},
   "source": [
    "### Step 2. Assumim que N.H. és veritat, i calculem t* o valor del test estadístic"
   ]
  },
  {
   "cell_type": "code",
   "execution_count": 109,
   "id": "22743ace",
   "metadata": {},
   "outputs": [
    {
     "name": "stdout",
     "output_type": "stream",
     "text": [
      "Test statistic t*= 2.2238271401631597\n"
     ]
    }
   ],
   "source": [
    "AltExtranger=180\n",
    "t=(AltExtranger-jugadors.Altura.mean())/(jugadors.Altura.std()/(np.sqrt(a.Altura.count()-1)))\n",
    "print(\"Test statistic t*= \" + str(t))"
   ]
  },
  {
   "cell_type": "markdown",
   "id": "ab0f2139",
   "metadata": {},
   "source": [
    "### Step 3. Calculem el valor P-value per right-tailed test per t* i n=a.Altura.count()-1=32-1=31"
   ]
  },
  {
   "cell_type": "code",
   "execution_count": 110,
   "id": "a5d9cf26",
   "metadata": {},
   "outputs": [
    {
     "name": "stdout",
     "output_type": "stream",
     "text": [
      "P-value t*: 0.01679012867942746\n"
     ]
    }
   ],
   "source": [
    "#Passem la t calculada i df(degrees freedom)\n",
    "P_value_t=scipy.stats.t.sf(abs(t),df=a.Altura.count()-1)\n",
    "print(\"P-value t*: \" + str(P_value_t))"
   ]
  },
  {
   "cell_type": "markdown",
   "id": "0f8ca2ea",
   "metadata": {},
   "source": [
    "Establim el nivell de significança alpha01 en 0.05 (5%) i alpha02 en 0.01 (1%), i comparem."
   ]
  },
  {
   "cell_type": "code",
   "execution_count": 111,
   "id": "66370739",
   "metadata": {},
   "outputs": [
    {
     "name": "stdout",
     "output_type": "stream",
     "text": [
      "P-value <= alpha 0.05 (5%). Reject Null Hypothesis in favour of the Alternative Hypothesis.\n"
     ]
    }
   ],
   "source": [
    "alpha01=0.05\n",
    "\n",
    "if P_value_t<= alpha01:\n",
    "    print(\"P-value <= alpha 0.05 (5%). Reject Null Hypothesis in favour of the Alternative Hypothesis.\")\n",
    "else:\n",
    "    print(\"P-value > alpha 0.05 (5%). Do not reject Null Hypothesis.\")"
   ]
  },
  {
   "cell_type": "code",
   "execution_count": 112,
   "id": "bc45a3b3",
   "metadata": {},
   "outputs": [
    {
     "name": "stdout",
     "output_type": "stream",
     "text": [
      "P-value > alpha 0.01 (1%). Do not reject Null Hypothesis.\n"
     ]
    }
   ],
   "source": [
    "alpha02=0.01\n",
    "\n",
    "if P_value_t<= alpha02:\n",
    "    print(\"P-value <= alpha 0.01 (1%). Reject Null Hypothesis in favour of the Alternative Hypothesis.\")\n",
    "else:\n",
    "    print(\"P-value > alpha 0.01 (1%). Do not reject Null Hypothesis.\")"
   ]
  },
  {
   "cell_type": "markdown",
   "id": "739aeabe",
   "metadata": {},
   "source": [
    "**Conclusió:**\n",
    "\n",
    "Amb nivell alpha o nivell de significança 0.01 (1%), no rebutjaríem la Hipòtesi Nul·la (és més possible que es compleixi la hipòtesi nul·la que els jugadors d'origen extranger fan 180 cm).\n",
    "\n",
    "Tanmateix, com en el cas anterior Z-score, amb un 5% de significança al t-score, també rebutjaríem la hipòtesi nul·la.\n",
    "\n",
    "\n",
    "Recordem què és alpha:\n",
    "\n",
    "*El nivel de significancia, también denotado como alfa o α, es la probabilidad de rechazar la hipótesis nula cuando es verdadera. Por ejemplo, un nivel de significancia de 0.05 indica un riesgo de 5% de concluir que existe una diferencia cuando en realidad no hay ninguna diferencia.*"
   ]
  },
  {
   "cell_type": "markdown",
   "id": "7187cbb6",
   "metadata": {},
   "source": [
    "## Exercici 2. Continua amb el conjunt de dades de tema esportiu que t'agradi i selecciona dos altres atributs del conjunt de dades. Calcula els p-valors i digues si rebutgem la hipòtesi nul·la agafant un alfa de 5%."
   ]
  },
  {
   "cell_type": "markdown",
   "id": "172256a5",
   "metadata": {},
   "source": [
    "### Step 1. Formulació hipòtesi\n",
    "Escollirem els atributs d'alçada i procedència originària del jugador, establint les següents hipòtesis:\n",
    "\n",
    "- Null Hypothesis H0: mu_alçada_extranger-mu_alçada_nacional = 0\n",
    "- Alternative Hypothesis H1: mu_alçada_extranger-mu_alçada_nacional <> 0"
   ]
  },
  {
   "cell_type": "code",
   "execution_count": 113,
   "id": "84a738ba",
   "metadata": {},
   "outputs": [
    {
     "name": "stdout",
     "output_type": "stream",
     "text": [
      "count     32.000000\n",
      "mean     177.406250\n",
      "std        5.452785\n",
      "min      168.000000\n",
      "25%      174.000000\n",
      "50%      176.500000\n",
      "75%      180.000000\n",
      "max      191.000000\n",
      "Name: Altura, dtype: float64\n",
      "count    622.000000\n",
      "mean     177.604502\n",
      "std        6.053533\n",
      "min      160.000000\n",
      "25%      173.000000\n",
      "50%      178.000000\n",
      "75%      182.000000\n",
      "max      197.000000\n",
      "Name: Altura, dtype: float64\n"
     ]
    }
   ],
   "source": [
    "j_extrangers=jugadors[jugadors.Provincia==\"Extranjero\"]\n",
    "j_nacionals=jugadors[jugadors.Provincia!=\"Extranjero\"]\n",
    "print(j_extrangers.Altura.describe())\n",
    "print(j_nacionals.Altura.describe())"
   ]
  },
  {
   "cell_type": "markdown",
   "id": "3d39b02f",
   "metadata": {},
   "source": [
    "### Step 2. Càlcul de la t-estadística i del P-value. Comparem el test amb alpha 5% i la probabilitat de fer un error Tipus-I."
   ]
  },
  {
   "cell_type": "code",
   "execution_count": 114,
   "id": "04c08195",
   "metadata": {},
   "outputs": [
    {
     "name": "stdout",
     "output_type": "stream",
     "text": [
      "stat=-0.181, p=0.856\n",
      "Probablement és la mateixa distribució. No rebutgem la Hipòtesi Nul·la.\n"
     ]
    }
   ],
   "source": [
    "from scipy.stats import ttest_ind\n",
    "stat, p = ttest_ind(j_extrangers[\"Altura\"],j_nacionals[\"Altura\"])\n",
    "print(\"stat=%.3f, p=%.3f\" % (stat, p))\n",
    "if p > 0.05:\n",
    "    print(\"Probablement és la mateixa distribució. No rebutgem la Hipòtesi Nul·la.\")\n",
    "else:\n",
    "    print(\"Probablement NO és la mateixa distribució. Rebutgem la Hipòtesi Nul·la.\")"
   ]
  },
  {
   "cell_type": "code",
   "execution_count": 115,
   "id": "81383ad7",
   "metadata": {},
   "outputs": [
    {
     "name": "stdout",
     "output_type": "stream",
     "text": [
      "Alçada mitja origen extranger: 177.40625\n",
      "Alçada mitja origen nacional: 177.60450160771705\n",
      "Diferència mus: -0.1982516077170544\n"
     ]
    }
   ],
   "source": [
    "print(\"Alçada mitja origen extranger: \" + str(j_extrangers.Altura.mean()))\n",
    "print(\"Alçada mitja origen nacional: \" + str(j_nacionals.Altura.mean()))\n",
    "print(\"Diferència mus: \" + str((j_extrangers.Altura.mean())-(j_nacionals.Altura.mean())))"
   ]
  },
  {
   "cell_type": "markdown",
   "id": "b7ee9974",
   "metadata": {},
   "source": [
    "### Step 3. Dibuixem les dades"
   ]
  },
  {
   "cell_type": "markdown",
   "id": "043c028e",
   "metadata": {},
   "source": [
    "Dibuixem les dades per tenir una visió del test, i comprovar que s'assemblen en gran mesura totes dues mostres."
   ]
  },
  {
   "cell_type": "code",
   "execution_count": 116,
   "id": "b2278445",
   "metadata": {},
   "outputs": [
    {
     "data": {
      "image/png": "[encoded data removed]",
      "text/plain": [
       "<Figure size 1440x360 with 2 Axes>"
      ]
     },
     "metadata": {
      "needs_background": "light"
     },
     "output_type": "display_data"
    }
   ],
   "source": [
    "fig = plt.figure(figsize=(20,5))\n",
    "\n",
    "ax1 = fig.add_subplot(1, 2, 1)\n",
    "ax1.hist(j_extrangers[\"Altura\"], edgecolor='k', bins=20)\n",
    "plt.title(\"Alçada jugadors d'origen extranger de la Selecció Espanyola de Futbol\",fontsize=12)\n",
    "plt.xlabel(\"Alçada [cm]\")\n",
    "plt.ylabel(\"Freqüència\")\n",
    "\n",
    "ax2 = fig.add_subplot(1, 2, 2)\n",
    "ax2.hist(j_nacionals[\"Altura\"], edgecolor='k', bins=20)\n",
    "plt.title(\"Alçada jugadors d'origen nacional de la Selecció Espanyola de Futbol\",fontsize=12)\n",
    "plt.xlabel(\"Alçada [cm]\")\n",
    "\n",
    "\n",
    "plt.show()"
   ]
  },
  {
   "cell_type": "code",
   "execution_count": 117,
   "id": "7b9e6c72",
   "metadata": {},
   "outputs": [
    {
     "name": "stdout",
     "output_type": "stream",
     "text": [
      "Mx: 191.0\n",
      "Mn: 168.0\n",
      "Meitat: 179.5\n"
     ]
    },
    {
     "data": {
      "image/png": "[encoded data removed]",
      "text/plain": [
       "<Figure size 720x360 with 1 Axes>"
      ]
     },
     "metadata": {
      "needs_background": "light"
     },
     "output_type": "display_data"
    }
   ],
   "source": [
    "fig = plt.figure(figsize=(10,5))\n",
    "\n",
    "sd_ex=j_extrangers[\"Altura\"].std(ddof=1)\n",
    "mean_ex=j_extrangers[\"Altura\"].mean()\n",
    "\n",
    "#centrem la campana\n",
    "maxim=j_extrangers[\"Altura\"].max()\n",
    "print(\"Mx: \" + str(maxim))\n",
    "minim=j_extrangers[\"Altura\"].min()\n",
    "print(\"Mn: \" + str(minim))\n",
    "meitat=maxim-(maxim-minim)/2\n",
    "print(\"Meitat: \" + str(meitat))\n",
    "\n",
    "x_axis = np.arange(minim, maxim, 0.01) \n",
    "\n",
    "sd_nac=j_nacionals[\"Altura\"].std(ddof=1)\n",
    "mean_nac=j_nacionals[\"Altura\"].mean()\n",
    "\n",
    "ax3=plt.plot(x_axis, norm.pdf(x_axis, mean_ex, sd_ex),label=\"Gauss jugadors extrangers\")\n",
    "ax4=plt.plot(x_axis, norm.pdf(x_axis, mean_nac, sd_nac),label=\"Gauss jugadors nacionals\")\n",
    "\n",
    "\n",
    "plt.legend(loc=\"upper right\")\n",
    "\n",
    "\n",
    "#ax3=jugadors[\"Altura\"].plot.density(label=\"Densitat (Pandas)\",legend=True)\n",
    "\n",
    "plt.xlabel(\"Altura [cm]\")\n",
    "plt.ylabel(\"Freqüència\")\n",
    "plt.title(\"Campana de Gauss Altura jugadors segons origen\")\n",
    "\n",
    "\n",
    "plt.show()"
   ]
  },
  {
   "cell_type": "markdown",
   "id": "62fc8cf9",
   "metadata": {},
   "source": [
    "***Conclusió:***\n",
    "\n",
    "Tenim una probabilitat de <=5% d'escollir un jugador d'origen extranger i que la seva Altura mitja no sigui comparable a la d'un jugador d'origen nacional; és a dir, les seves altures segeuixen la mateixa distribució en un 95%."
   ]
  },
  {
   "cell_type": "markdown",
   "id": "15315b50",
   "metadata": {},
   "source": [
    "## Exercici 3. Continua amb el conjunt de dades de tema esportiu que t'agradi i selecciona tres atributs del conjunt de dades. Calcula el p-valor i digues si rebutja la hipòtesi nul·la agafant un alfa de 5"
   ]
  },
  {
   "cell_type": "markdown",
   "id": "c623cb60",
   "metadata": {},
   "source": [
    "### Step 1. Hipòtesi.\n",
    "Seleccionarem 3 atributs per a aqueslls jugadors que han marcat un gol o més: partits jugats, minuts jugats i gols marcats.\n",
    "\n",
    "Formulem la hipòtesi:\n",
    "- Null Hypothesis H0: mitjanes iguals.\n",
    "- Alternative Hypothesis H1: mitjanes diferents com a mínim en una de les mostres."
   ]
  },
  {
   "cell_type": "code",
   "execution_count": 118,
   "id": "49931dee",
   "metadata": {},
   "outputs": [
    {
     "name": "stdout",
     "output_type": "stream",
     "text": [
      "               PJ           Min           G\n",
      "count  247.000000    247.000000  247.000000\n",
      "mean    25.595142   1776.121457    5.190283\n",
      "std     27.963791   2035.143576    7.347378\n",
      "min      1.000000     18.000000    1.000000\n",
      "25%      7.000000    540.000000    1.000000\n",
      "50%     16.000000   1093.000000    3.000000\n",
      "75%     32.500000   2292.500000    6.000000\n",
      "max    180.000000  13709.000000   59.000000\n"
     ]
    }
   ],
   "source": [
    "j_golejadors=jugadors[jugadors.G>0]\n",
    "j_golejadors01=j_golejadors.loc[:,[\"PJ\",\"Min\",\"G\"]]\n",
    "print(j_golejadors01.describe())"
   ]
  },
  {
   "cell_type": "markdown",
   "id": "feb9bebe",
   "metadata": {},
   "source": [
    "### Step 2. Mètode de testeig. Càlcul P-value i estadístic.\n",
    "Aplicarem ANOVA (Analysis of variance), segons explicació a la web:\n",
    "\n",
    "https://machinelearningmastery.com/statistical-hypothesis-tests-in-python-cheat-sheet/\n",
    "\n",
    "\n",
    "*Analysis of Variance Test (ANOVA)\n",
    "Tests whether the means of two or more independent samples are significantly different.\n",
    "Assumptions:\n",
    "*- Observations in each sample are independent and identically distributed (iid).\n",
    "*- Observations in each sample are normally distributed.\n",
    "*- Observations in each sample have the same variance.\n",
    "*- Interpretation\n",
    "\n",
    "*- H0: the means of the samples are equal.\n",
    "*- H1: one or more of the means of the samples are unequal.*"
   ]
  },
  {
   "cell_type": "code",
   "execution_count": 119,
   "id": "02bfca3f",
   "metadata": {},
   "outputs": [
    {
     "name": "stdout",
     "output_type": "stream",
     "text": [
      "stat=184.862, p=0.000\n",
      "Probablement NO és la mateixa distribució. Rebutgem la Hipòtesi Nul·la.\n"
     ]
    }
   ],
   "source": [
    "from scipy.stats import f_oneway\n",
    "j_PJ = j_golejadors01[\"PJ\"]\n",
    "j_Min = j_golejadors01[\"Min\"]\n",
    "j_G = j_golejadors01[\"G\"]\n",
    "stat, p = f_oneway(j_PJ, j_Min, j_G)\n",
    "print('stat=%.3f, p=%.3f' % (stat, p))\n",
    "if p > 0.05:\n",
    "    print(\"Probablement és la mateixa distribució. No rebutgem la Hipòtesi Nul·la.\")\n",
    "else:\n",
    "    print(\"Probablement NO és la mateixa distribució. Rebutgem la Hipòtesi Nul·la.\")"
   ]
  },
  {
   "cell_type": "markdown",
   "id": "a9712d44",
   "metadata": {},
   "source": [
    "### Step 3. Dibuixem la distribució dels 3 atributs."
   ]
  },
  {
   "cell_type": "code",
   "execution_count": 124,
   "id": "882d94ed",
   "metadata": {},
   "outputs": [
    {
     "data": {
      "image/png": "[encoded data removed]",
      "text/plain": [
       "<Figure size 1440x360 with 1 Axes>"
      ]
     },
     "metadata": {
      "needs_background": "light"
     },
     "output_type": "display_data"
    }
   ],
   "source": [
    "fig = plt.figure(figsize=(20,5))\n",
    "\n",
    "mu_J, sigma_J = np.mean(j_PJ), np.std(j_PJ)\n",
    "normal_J = stats.norm(mu_J, sigma_J)\n",
    "x_J = np.linspace(normal_J.ppf(0.01),normal_J.ppf(0.99), 100)\n",
    "fp_J = normal_J.pdf(x_J) # Función de Probabilidad\n",
    "ax_J=plt.plot(x_J, fp_J,label=\"Partits jugats\")\n",
    "\n",
    "\n",
    "mu_Min, sigma_Min = np.mean(j_Min), np.std(j_Min)\n",
    "normal_Min = stats.norm(mu_Min, sigma_Min)\n",
    "x_Min = np.linspace(normal_Min.ppf(0.01),normal_Min.ppf(0.99), 100)\n",
    "fp_Min = normal_Min.pdf(x_Min) # Función de Probabilidad\n",
    "ax_Min=plt.plot(x_Min, fp_Min,label=\"Minuts\")\n",
    "\n",
    "\n",
    "mu_G, sigma_G = np.mean(j_G), np.std(j_G)\n",
    "normal_G = stats.norm(mu_G, sigma_G)\n",
    "x_G = np.linspace(normal_G.ppf(0.01),normal_G.ppf(0.99), 100)\n",
    "fp_G = normal_G.pdf(x_G) # Función de Probabilidad\n",
    "ax_G=plt.plot(x_G, fp_G,label=\"Gols\")\n",
    "\n",
    "plt.legend(loc=\"upper right\")\n",
    "\n",
    "\n",
    "plt.xlim(-100,100)\n",
    "plt.title('Distribució Normal')\n",
    "plt.ylabel('Probabilitat')\n",
    "plt.xlabel('Valors')\n",
    "plt.show()"
   ]
  },
  {
   "cell_type": "markdown",
   "id": "3f249fac",
   "metadata": {},
   "source": [
    "***Conclusió:***\n",
    "\n",
    "En el dibuix es pot veure com les distribucions normals de cada una de les dades no s'assemblen, corroborant el càlcul que ens assenyala que NO tenen la mateixa distribució i que, per tant, es rebutja la hipòtesi nul·la."
   ]
  },
  {
   "cell_type": "code",
   "execution_count": null,
   "id": "fd117d81",
   "metadata": {},
   "outputs": [],
   "source": []
  }
 ],
 "metadata": {
  "kernelspec": {
   "display_name": "Python 3 (ipykernel)",
   "language": "python",
   "name": "python3"
  },
  "language_info": {
   "codemirror_mode": {
    "name": "ipython",
    "version": 3
   },
   "file_extension": ".py",
   "mimetype": "text/x-python",
   "name": "python",
   "nbconvert_exporter": "python",
   "pygments_lexer": "ipython3",
   "version": "3.9.7"
  }
 },
 "nbformat": 4,
 "nbformat_minor": 5
}
